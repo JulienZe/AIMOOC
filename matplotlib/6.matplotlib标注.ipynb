{
 "cells": [
  {
   "cell_type": "code",
   "execution_count": 1,
   "metadata": {},
   "outputs": [],
   "source": [
    "import matplotlib.pyplot as plt\n",
    "import numpy as np"
   ]
  },
  {
   "cell_type": "code",
   "execution_count": 12,
   "metadata": {},
   "outputs": [
    {
     "data": {
      "image/png": "[encoded data removed]",
      "text/plain": [
       "<Figure size 432x288 with 1 Axes>"
      ]
     },
     "metadata": {
      "needs_background": "light"
     },
     "output_type": "display_data"
    }
   ],
   "source": [
    "x = np.linspace(-3,3,100)\n",
    "y1 = 2*x + 1\n",
    "plt.plot(x,y1,color='red',linewidth=1.0,linestyle=\"--\")\n",
    "#gca 获取当前的坐标轴\n",
    "ax = plt.gca()\n",
    "#把右边和上边的边框去掉\n",
    "ax.spines['right'].set_color(\"none\")\n",
    "ax.spines['top'].set_color(\"none\")\n",
    "#把x轴的刻度设置为‘bottom’\n",
    "#把y轴的刻度设置为‘left’\n",
    "ax.xaxis.set_ticks_position('bottom')\n",
    "ax.yaxis.set_ticks_position('left')\n",
    "\n",
    "# 设置bottom对应的0点\n",
    "# 设置left对应到0点\n",
    "ax.spines['bottom'].set_position(('data',0))\n",
    "ax.spines['left'].set_position(('data',0))\n",
    "\n",
    "x0 =0.5\n",
    "y0 = 2*x0 + 1\n",
    "#画点\n",
    "plt.scatter(x0,y0,s=50,color='b')\n",
    "\n",
    "#画虚线\n",
    "plt.plot([x0,x0],[y0,0],'k--',lw=2)\n",
    "\n",
    "\n",
    "\n",
    "plt.show()"
   ]
  },
  {
   "cell_type": "code",
   "execution_count": null,
   "metadata": {},
   "outputs": [],
   "source": []
  },
  {
   "cell_type": "raw",
   "metadata": {},
   "source": []
  }
 ],
 "metadata": {
  "kernelspec": {
   "display_name": "Python 3",
   "language": "python",
   "name": "python3"
  },
  "language_info": {
   "codemirror_mode": {
    "name": "ipython",
    "version": 3
   },
   "file_extension": ".py",
   "mimetype": "text/x-python",
   "name": "python",
   "nbconvert_exporter": "python",
   "pygments_lexer": "ipython3",
   "version": "3.7.0"
  }
 },
 "nbformat": 4,
 "nbformat_minor": 2
}
