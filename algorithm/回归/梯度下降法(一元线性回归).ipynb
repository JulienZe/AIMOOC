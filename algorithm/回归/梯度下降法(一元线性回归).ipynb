{
 "cells": [
  {
   "cell_type": "code",
   "execution_count": 1,
   "metadata": {},
   "outputs": [],
   "source": [
    "import numpy as np\n",
    "import matplotlib.pyplot as plt"
   ]
  },
  {
   "cell_type": "code",
   "execution_count": 10,
   "metadata": {},
   "outputs": [
    {
     "data": {
      "image/png": "[encoded data removed]",
      "text/plain": [
       "<Figure size 432x288 with 1 Axes>"
      ]
     },
     "metadata": {
      "needs_background": "light"
     },
     "output_type": "display_data"
    }
   ],
   "source": [
    "# 载入数据\n",
    "data = np.genfromtxt(\"data.csv\",delimiter=\",\")\n",
    "x_data = data[:,0]\n",
    "y_data = data[:,1]\n",
    "plt.scatter(x_data,y_data)\n",
    "plt.show()"
   ]
  },
  {
   "cell_type": "code",
   "execution_count": 52,
   "metadata": {},
   "outputs": [],
   "source": [
    "# 学习率 learning rate\n",
    "lr = 0.0001\n",
    "\n",
    "# 截距\n",
    "b = 0\n",
    "# 斜率\n",
    "k = 0\n",
    "# 最大迭代次数\n",
    "epochs = 50\n",
    "\n",
    "# 最小二乘法\n",
    "def compute_error(b,k,x_data,y_data):\n",
    "    totalError = 0\n",
    "    for i in range(0,len(x_data)):\n",
    "        totalError += (y_data[i]-(k*x_data[i] +b)) ** 2\n",
    "    return totalError/float(len(x_data))/2.0"
   ]
  },
  {
   "cell_type": "code",
   "execution_count": 87,
   "metadata": {},
   "outputs": [],
   "source": [
    "def gradient_descent_runner(x_data,y_data,b,k,lr,epochs):\n",
    "    # 计算总数据量\n",
    "    m = float(len(x_data))\n",
    "    # 循环epochs次\n",
    "    for i in range(epochs):\n",
    "        b_grad = 0\n",
    "        k_grad = 0\n",
    "        #计算梯度的总和再求平均\n",
    "        for j in range(0,len(x_data)):\n",
    "            b_grad += (1/m) * (((k*x_data[j]) +b) -y_data[j])\n",
    "            k_grad += (1/m) * x_data[j] * (((k*x_data[j]) +b) - y_data[j])\n",
    "        #更新b和k\n",
    "        b = b - (lr * b_grad)\n",
    "        k = k - (lr * k_grad)\n",
    "        #每迭代5次，输出一次图像\n",
    "        if i%5 == 0:\n",
    "            print(\"epochs:\",i)\n",
    "            plt.plot(x_data,y_data,'b.')\n",
    "            plt.plot(x_data,k*x_data +b,'r')\n",
    "            plt.show()\n",
    "        return b,k"
   ]
  },
  {
   "cell_type": "code",
   "execution_count": 88,
   "metadata": {},
   "outputs": [
    {
     "name": "stdout",
     "output_type": "stream",
     "text": [
      "Starting b = 0.02815595150245868,k = 1.4157079689863437,error=61.304822885852516\n",
      "Running...\n",
      "epochs: 0\n"
     ]
    },
    {
     "data": {
      "image/png": "[encoded data removed]",
      "text/plain": [
       "<Figure size 432x288 with 1 Axes>"
      ]
     },
     "metadata": {
      "needs_background": "light"
     },
     "output_type": "display_data"
    },
    {
     "name": "stdout",
     "output_type": "stream",
     "text": [
      "After 50 inerations b = 0.02849556954712867, k = 1.4314579102154794, error =59.13227965281697\n"
     ]
    }
   ],
   "source": [
    "print(\"Starting b = {0},k = {1},error={2}\".format(b,k,compute_error(b,k,x_data,y_data)))\n",
    "print(\"Running...\")\n",
    "b,k  = gradient_descent_runner(x_data,y_data,b,k,lr,epochs)\n",
    "print(\"After {0} inerations b = {1}, k = {2}, error ={3}\".format(epochs,b,k,compute_error(b,k,x_data,y_data)))"
   ]
  },
  {
   "cell_type": "code",
   "execution_count": 89,
   "metadata": {},
   "outputs": [
    {
     "data": {
      "image/png": "[encoded data removed]",
      "text/plain": [
       "<Figure size 432x288 with 1 Axes>"
      ]
     },
     "metadata": {
      "needs_background": "light"
     },
     "output_type": "display_data"
    }
   ],
   "source": [
    "plt.plot(x_data,y_data,'b.')\n",
    "plt.plot(x_data,k*x_data+b, 'r')\n",
    "plt.show()"
   ]
  },
  {
   "cell_type": "code",
   "execution_count": null,
   "metadata": {},
   "outputs": [],
   "source": []
  },
  {
   "cell_type": "code",
   "execution_count": null,
   "metadata": {},
   "outputs": [],
   "source": []
  },
  {
   "cell_type": "code",
   "execution_count": null,
   "metadata": {},
   "outputs": [],
   "source": []
  },
  {
   "cell_type": "code",
   "execution_count": null,
   "metadata": {},
   "outputs": [],
   "source": []
  },
  {
   "cell_type": "code",
   "execution_count": null,
   "metadata": {},
   "outputs": [],
   "source": []
  }
 ],
 "metadata": {
  "kernelspec": {
   "display_name": "Python 3",
   "language": "python",
   "name": "python3"
  },
  "language_info": {
   "codemirror_mode": {
    "name": "ipython",
    "version": 3
   },
   "file_extension": ".py",
   "mimetype": "text/x-python",
   "name": "python",
   "nbconvert_exporter": "python",
   "pygments_lexer": "ipython3",
   "version": "3.7.2"
  }
 },
 "nbformat": 4,
 "nbformat_minor": 2
}
